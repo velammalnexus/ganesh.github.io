{
  "nbformat": 4,
  "nbformat_minor": 0,
  "metadata": {
    "colab": {
      "name": "Untitled1.ipynb",
      "provenance": [],
      "collapsed_sections": [],
      "authorship_tag": "ABX9TyMbtSGhvv6Z1SxFJiywxcj2",
      "include_colab_link": true
    },
    "kernelspec": {
      "name": "python3",
      "display_name": "Python 3"
    },
    "language_info": {
      "name": "python"
    }
  },
  "cells": [
    {
      "cell_type": "markdown",
      "metadata": {
        "id": "view-in-github",
        "colab_type": "text"
      },
      "source": [
        "<a href=\"https://colab.research.google.com/github/velammalnexus/ganesh.github.io/blob/main/Untitled1.ipynb\" target=\"_parent\"><img src=\"https://colab.research.google.com/assets/colab-badge.svg\" alt=\"Open In Colab\"/></a>"
      ]
    },
    {
      "cell_type": "code",
      "execution_count": 1,
      "metadata": {
        "id": "0q1c2AIzywBK"
      },
      "outputs": [],
      "source": [
        "import pandas\n",
        "from pandas.plotting import scatter_matrix\n",
        "import matplotlib.pyplot as plt\n",
        "from sklearn import model_selection\n",
        "from sklearn.metrics import classification_report\n",
        "from sklearn.metrics import confusion_matrix\n",
        "from sklearn.metrics import accuracy_score\n",
        "from sklearn.linear_model import LogisticRegression\n",
        "from sklearn.tree import DecisionTreeClassifier\n",
        "from sklearn.neighbors import KNeighborsClassifier\n",
        "from sklearn.discriminant_analysis import LinearDiscriminantAnalysis\n",
        "from sklearn.naive_bayes import GaussianNB\n",
        "from sklearn.svm import SVC \n"
      ]
    },
    {
      "cell_type": "code",
      "source": [
        "url = \"https://archive.ics.uci.edu/ml/machine-learning-databases/iris/iris.data\"\n",
        "names = ['sepal-lenght', 'sepal-width', 'petal-length', 'petal-width', 'class']\n",
        "dataset = pandas.read_csv(url, names=names)"
      ],
      "metadata": {
        "id": "BGCt3DhT2D1K"
      },
      "execution_count": 2,
      "outputs": []
    },
    {
      "cell_type": "markdown",
      "source": [
        "print(dataset.shape)"
      ],
      "metadata": {
        "id": "k1TZm3C-8g4u"
      }
    },
    {
      "cell_type": "code",
      "source": [
        "print(dataset.head(30))"
      ],
      "metadata": {
        "colab": {
          "base_uri": "https://localhost:8080/"
        },
        "id": "j7dy2uSg8sJ1",
        "outputId": "e31bb9d5-ce35-4f5a-c538-90d085e50e56"
      },
      "execution_count": 4,
      "outputs": [
        {
          "output_type": "stream",
          "name": "stdout",
          "text": [
            "    sepal-lenght  sepal-width  petal-length  petal-width        class\n",
            "0            5.1          3.5           1.4          0.2  Iris-setosa\n",
            "1            4.9          3.0           1.4          0.2  Iris-setosa\n",
            "2            4.7          3.2           1.3          0.2  Iris-setosa\n",
            "3            4.6          3.1           1.5          0.2  Iris-setosa\n",
            "4            5.0          3.6           1.4          0.2  Iris-setosa\n",
            "5            5.4          3.9           1.7          0.4  Iris-setosa\n",
            "6            4.6          3.4           1.4          0.3  Iris-setosa\n",
            "7            5.0          3.4           1.5          0.2  Iris-setosa\n",
            "8            4.4          2.9           1.4          0.2  Iris-setosa\n",
            "9            4.9          3.1           1.5          0.1  Iris-setosa\n",
            "10           5.4          3.7           1.5          0.2  Iris-setosa\n",
            "11           4.8          3.4           1.6          0.2  Iris-setosa\n",
            "12           4.8          3.0           1.4          0.1  Iris-setosa\n",
            "13           4.3          3.0           1.1          0.1  Iris-setosa\n",
            "14           5.8          4.0           1.2          0.2  Iris-setosa\n",
            "15           5.7          4.4           1.5          0.4  Iris-setosa\n",
            "16           5.4          3.9           1.3          0.4  Iris-setosa\n",
            "17           5.1          3.5           1.4          0.3  Iris-setosa\n",
            "18           5.7          3.8           1.7          0.3  Iris-setosa\n",
            "19           5.1          3.8           1.5          0.3  Iris-setosa\n",
            "20           5.4          3.4           1.7          0.2  Iris-setosa\n",
            "21           5.1          3.7           1.5          0.4  Iris-setosa\n",
            "22           4.6          3.6           1.0          0.2  Iris-setosa\n",
            "23           5.1          3.3           1.7          0.5  Iris-setosa\n",
            "24           4.8          3.4           1.9          0.2  Iris-setosa\n",
            "25           5.0          3.0           1.6          0.2  Iris-setosa\n",
            "26           5.0          3.4           1.6          0.4  Iris-setosa\n",
            "27           5.2          3.5           1.5          0.2  Iris-setosa\n",
            "28           5.2          3.4           1.4          0.2  Iris-setosa\n",
            "29           4.7          3.2           1.6          0.2  Iris-setosa\n"
          ]
        }
      ]
    },
    {
      "cell_type": "code",
      "source": [
        "print(dataset.describe())"
      ],
      "metadata": {
        "colab": {
          "base_uri": "https://localhost:8080/"
        },
        "id": "4slyAcpG8syK",
        "outputId": "f68c6637-577f-4013-d978-1e78207397a6"
      },
      "execution_count": 6,
      "outputs": [
        {
          "output_type": "stream",
          "name": "stdout",
          "text": [
            "       sepal-lenght  sepal-width  petal-length  petal-width\n",
            "count    150.000000   150.000000    150.000000   150.000000\n",
            "mean       5.843333     3.054000      3.758667     1.198667\n",
            "std        0.828066     0.433594      1.764420     0.763161\n",
            "min        4.300000     2.000000      1.000000     0.100000\n",
            "25%        5.100000     2.800000      1.600000     0.300000\n",
            "50%        5.800000     3.000000      4.350000     1.300000\n",
            "75%        6.400000     3.300000      5.100000     1.800000\n",
            "max        7.900000     4.400000      6.900000     2.500000\n"
          ]
        }
      ]
    },
    {
      "cell_type": "code",
      "source": [
        "print(dataset.groupby('class').size())"
      ],
      "metadata": {
        "colab": {
          "base_uri": "https://localhost:8080/"
        },
        "id": "S5TdcyU29NMz",
        "outputId": "aa3fbbdb-37ef-4e98-a26a-73a701461234"
      },
      "execution_count": 7,
      "outputs": [
        {
          "output_type": "stream",
          "name": "stdout",
          "text": [
            "class\n",
            "Iris-setosa        50\n",
            "Iris-versicolor    50\n",
            "Iris-virginica     50\n",
            "dtype: int64\n"
          ]
        }
      ]
    }
  ]
}