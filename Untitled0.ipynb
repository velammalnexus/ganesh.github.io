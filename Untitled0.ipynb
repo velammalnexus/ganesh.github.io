{
  "nbformat": 4,
  "nbformat_minor": 0,
  "metadata": {
    "colab": {
      "name": "Untitled0.ipynb",
      "provenance": [],
      "authorship_tag": "ABX9TyPO31YFoFw31xoBkvqFowXM",
      "include_colab_link": true
    },
    "kernelspec": {
      "name": "python3",
      "display_name": "Python 3"
    },
    "language_info": {
      "name": "python"
    }
  },
  "cells": [
    {
      "cell_type": "markdown",
      "metadata": {
        "id": "view-in-github",
        "colab_type": "text"
      },
      "source": [
        "<a href=\"https://colab.research.google.com/github/velammalnexus/ganesh.github.io/blob/main/Untitled0.ipynb\" target=\"_parent\"><img src=\"https://colab.research.google.com/assets/colab-badge.svg\" alt=\"Open In Colab\"/></a>"
      ]
    },
    {
      "cell_type": "code",
      "execution_count": 1,
      "metadata": {
        "id": "2FBA9e7iuahA"
      },
      "outputs": [],
      "source": [
        "from sklearn import datasets"
      ]
    },
    {
      "cell_type": "code",
      "source": [
        "iris_dataset = datasets.load_iris()"
      ],
      "metadata": {
        "id": "V8RWkssVvaYK"
      },
      "execution_count": 3,
      "outputs": []
    },
    {
      "cell_type": "code",
      "source": [
        "x = iris_dataset.data[:,:2]"
      ],
      "metadata": {
        "id": "DKyuHLQRv1gI"
      },
      "execution_count": 4,
      "outputs": []
    },
    {
      "cell_type": "code",
      "source": [
        "x_count = len(x.flat)\n",
        "x_min = x[:, 0].min() - .5\n",
        "x_max = x[:, 0].max() + .5\n",
        "x_mean = x[:, 0].mean()"
      ],
      "metadata": {
        "id": "SKIhVbTQwDnw"
      },
      "execution_count": 5,
      "outputs": []
    },
    {
      "cell_type": "code",
      "source": [
        "x_count, x_min, x_max, x_mean"
      ],
      "metadata": {
        "colab": {
          "base_uri": "https://localhost:8080/"
        },
        "id": "QTsVkIMqw98J",
        "outputId": "2c573a26-3434-4ccf-afd2-ec41967ece8a"
      },
      "execution_count": 6,
      "outputs": [
        {
          "output_type": "execute_result",
          "data": {
            "text/plain": [
              "(300, 3.8, 8.4, 5.843333333333334)"
            ]
          },
          "metadata": {},
          "execution_count": 6
        }
      ]
    }
  ]
}